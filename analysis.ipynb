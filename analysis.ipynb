{
 "cells": [
  {
   "cell_type": "code",
   "execution_count": 56,
   "id": "d58c57de-125f-4468-bdde-109fd9134c00",
   "metadata": {},
   "outputs": [],
   "source": [
    "def get_plot_array(o, name):\n",
    "    return [group[name] for group in o[\"reports\"]]"
   ]
  },
  {
   "cell_type": "code",
   "execution_count": 1,
   "id": "f3e1a300-2f0e-4c1d-80d4-4ed29bf6d34f",
   "metadata": {},
   "outputs": [
    {
     "name": "stdout",
     "output_type": "stream",
     "text": [
      "[7 3 2 8 6 4 1 9 5 0]\n",
      "(455, 31) (114, 31)\n",
      "Epoch 0\n",
      "train_loss: [[0.98598199]]\n",
      "test_loss: [[0.95930329]]\n",
      "Epoch 10\n",
      "train_loss: [[0.41362905]]\n",
      "test_loss: [[0.34946487]]\n",
      "Epoch 20\n",
      "train_loss: [[0.30032686]]\n",
      "test_loss: [[0.27682359]]\n",
      "Epoch 30\n",
      "train_loss: [[0.25202667]]\n",
      "test_loss: [[0.25017115]]\n",
      "Epoch 40\n",
      "train_loss: [[0.2238619]]\n",
      "test_loss: [[0.23431645]]\n",
      "Epoch 50\n",
      "train_loss: [[0.20448332]]\n",
      "test_loss: [[0.2235803]]\n",
      "Epoch 60\n",
      "train_loss: [[0.18946389]]\n",
      "test_loss: [[0.21408013]]\n",
      "Epoch 70\n",
      "train_loss: [[0.17756259]]\n",
      "test_loss: [[0.20665427]]\n",
      "Epoch 80\n",
      "train_loss: [[0.16769803]]\n",
      "test_loss: [[0.19751732]]\n",
      "Epoch 90\n",
      "train_loss: [[0.15931515]]\n",
      "test_loss: [[0.19085707]]\n"
     ]
    }
   ],
   "source": [
    "from train_utils import *\n",
    "results = {}\n",
    "\n",
    "demo_params = {\n",
    "    \"num_units\": \"16,16\",\n",
    "    \"activation_func\": \"Tanh\",\n",
    "    \"batch_size\": 32,\n",
    "    \"num_epochs\": 100,\n",
    "    \"learning_rate\": 1e-2,\n",
    "    \"momentum\": 0.9,\n",
    "    \"test_ratio\": 0.2,\n",
    "    \n",
    "    \"input_data\": \"./data/BreastCancer.data\",\n",
    "    \"loss_func\": \"log_binary_loss\",\n",
    "    # \"l2_norm\": 0.1\n",
    "    \"l2_norm\": 5e-3,\n",
    "    \"log_step\": 10\n",
    "}\n",
    "# demo_params\n",
    "\n",
    "results[\"Classification_Tanh\"] = train_func(**demo_params)"
   ]
  },
  {
   "cell_type": "code",
   "execution_count": 44,
   "id": "16323a9b-eb00-44ac-8953-2d3e5c9ef52f",
   "metadata": {},
   "outputs": [],
   "source": []
  },
  {
   "cell_type": "code",
   "execution_count": 2,
   "id": "c2d03801-5421-469f-9a0a-3a9656d334d7",
   "metadata": {},
   "outputs": [
    {
     "name": "stdout",
     "output_type": "stream",
     "text": [
      "(455, 31) (114, 31)\n",
      "Epoch 0\n",
      "train_loss: [[1.0669882]]\n",
      "test_loss: [[0.60846891]]\n",
      "Epoch 10\n",
      "train_loss: [[0.42961274]]\n",
      "test_loss: [[0.37358831]]\n",
      "Epoch 20\n",
      "train_loss: [[0.32176568]]\n",
      "test_loss: [[0.30512726]]\n",
      "Epoch 30\n",
      "train_loss: [[0.26223355]]\n",
      "test_loss: [[0.25508768]]\n",
      "Epoch 40\n",
      "train_loss: [[0.22424931]]\n",
      "test_loss: [[0.22212942]]\n",
      "Epoch 50\n",
      "train_loss: [[0.19780513]]\n",
      "test_loss: [[0.20002689]]\n",
      "Epoch 60\n",
      "train_loss: [[0.17841499]]\n",
      "test_loss: [[0.18299464]]\n",
      "Epoch 70\n",
      "train_loss: [[0.16350741]]\n",
      "test_loss: [[0.16984351]]\n",
      "Epoch 80\n",
      "train_loss: [[0.1516384]]\n",
      "test_loss: [[0.16063922]]\n",
      "Epoch 90\n",
      "train_loss: [[0.14184881]]\n",
      "test_loss: [[0.15265082]]\n"
     ]
    }
   ],
   "source": [
    "demo_params = {\n",
    "    \"num_units\": \"16,16\",\n",
    "    \"activation_func\": \"Sigmoid\",\n",
    "    \"batch_size\": 32,\n",
    "    \"num_epochs\": 100,\n",
    "    \"learning_rate\": 1e-2,\n",
    "    \"momentum\": 0.9,\n",
    "    \"test_ratio\": 0.2,\n",
    "    \n",
    "    \"input_data\": \"./data/BreastCancer.data\",\n",
    "    \"loss_func\": \"log_binary_loss\",\n",
    "    # \"l2_norm\": 0.1\n",
    "    \"l2_norm\": 5e-3,\n",
    "    \"log_step\": 10\n",
    "}\n",
    "results[\"Classification_Sigmoid\"] = train_func(**demo_params)\n"
   ]
  },
  {
   "cell_type": "code",
   "execution_count": null,
   "id": "2089dec0-4fa9-4210-9adb-57b85620d712",
   "metadata": {},
   "outputs": [],
   "source": []
  },
  {
   "cell_type": "code",
   "execution_count": 18,
   "id": "e2cf4956-99f1-4e61-80dc-6f107446dac3",
   "metadata": {},
   "outputs": [],
   "source": [
    "import seaborn as sns\n",
    "\n",
    "epochs = [o[\"epoch\"] for o in results[\"Classification_Sigmoid\"][\"reports\"]]\n",
    "train_loss = [o[\"train_loss\"] for o in results[\"Classification_Sigmoid\"][\"reports\"]]\n",
    "test_loss = [o[\"test_loss\"] for o in results[\"Classification_Sigmoid\"][\"reports\"]]\n",
    "\n",
    "\n",
    "train_loss_2 = [o[\"train_loss\"] for o in results[\"Classification_Tanh\"][\"reports\"]]\n",
    "test_loss_2 = [o[\"test_loss\"] for o in results[\"Classification_Tanh\"][\"reports\"]]\n",
    "l2_loss = [o[\"l2_loss\"] for o in results[\"Classification_Tanh\"][\"reports\"]]\n"
   ]
  },
  {
   "cell_type": "code",
   "execution_count": 21,
   "id": "f0af1c1b-b8b9-4a42-9a59-3e22102fbf3d",
   "metadata": {},
   "outputs": [],
   "source": [
    "import pandas as pd\n",
    "\n",
    "data = pd.DataFrame({\"epochs\": epochs, \"train_loss\": train_loss, \"test_loss\": test_loss, \"train_loss_2\":train_loss_2, \"test_loss_2\": test_loss_2, \"l2_loss\": l2_loss})"
   ]
  },
  {
   "cell_type": "code",
   "execution_count": 37,
   "id": "df85d830-67e4-4aca-af9c-e8572c504dcd",
   "metadata": {},
   "outputs": [
    {
     "data": {
      "image/png": "[encoded data removed]",
      "text/plain": [
       "<Figure size 432x288 with 1 Axes>"
      ]
     },
     "metadata": {
      "needs_background": "light"
     },
     "output_type": "display_data"
    }
   ],
   "source": [
    "import matplotlib.pyplot as plt\n",
    "\n",
    "fig = sns.lineplot(data=data, x=\"epochs\", y=\"train_loss\", legend=\"auto\", label=\"train_loss_Sigmoid\", linestyle=\"--\")\n",
    "sns.lineplot(data=data, x=\"epochs\", y=\"test_loss\", legend=\"auto\", label=\"test_loss_Sigmoid\")\n",
    "\n",
    "sns.lineplot(data=data, x=\"epochs\", y=\"train_loss_2\", legend=\"auto\", label=\"train_loss_Tanh\", linestyle=\"--\")\n",
    "sns.lineplot(data=data, x=\"epochs\", y=\"test_loss_2\", legend=\"auto\", label=\"test_loss_Tanh\")\n",
    "\n",
    "plt.xlabel(\"epochs\")\n",
    "plt.ylabel(\"log_binary_loss\")\n",
    "\n",
    "# sns.lineplot(x=epochs, y=test_loss)\n",
    "\n",
    "plt.savefig(\"Active_Function.png\")"
   ]
  },
  {
   "cell_type": "code",
   "execution_count": null,
   "id": "f64798cf-150d-4309-876b-ef8f6b9d9c99",
   "metadata": {},
   "outputs": [],
   "source": [
    "import matplotlib.pyplot as plt\n",
    "\n",
    "fig = sns.lineplot(data=data, x=\"epochs\", y=\"train_loss\", legend=\"auto\", label=\"train_loss_Sigmoid\", linestyle=\"--\")\n",
    "sns.lineplot(data=data, x=\"epochs\", y=\"test_loss\", legend=\"auto\", label=\"test_loss_Sigmoid\")\n",
    "\n",
    "sns.lineplot(data=data, x=\"epochs\", y=\"train_loss_2\", legend=\"auto\", label=\"train_loss_Tanh\", linestyle=\"--\")\n",
    "sns.lineplot(data=data, x=\"epochs\", y=\"test_loss_2\", legend=\"auto\", label=\"test_loss_Tanh\")\n",
    "\n",
    "plt.xlabel(\"epochs\")\n",
    "plt.ylabel(\"log_binary_loss\")\n",
    "\n",
    "# sns.lineplot(x=epochs, y=test_loss)\n",
    "\n",
    "plt.savefig(\"Active_Function.png\")"
   ]
  },
  {
   "cell_type": "code",
   "execution_count": 4,
   "id": "359d5907-8788-40be-b77d-ceb9d385dd65",
   "metadata": {},
   "outputs": [
    {
     "data": {
      "text/plain": [
       "{'epoch': 0,\n",
       " 'train_loss': 1.5074295974530283,\n",
       " 'l2_loss': 1.5074295974530283,\n",
       " 'test_loss': 0.8671053649841365}"
      ]
     },
     "execution_count": 4,
     "metadata": {},
     "output_type": "execute_result"
    }
   ],
   "source": [
    "result[\"reports\"][0]"
   ]
  },
  {
   "cell_type": "code",
   "execution_count": 51,
   "id": "11505c8d-5c32-4234-9bed-0534b03610f3",
   "metadata": {},
   "outputs": [
    {
     "data": {
      "text/plain": [
       "[1.457880110907106,\n",
       " 0.6486197924746662,\n",
       " 0.627814111759381,\n",
       " 0.6015606210087241,\n",
       " 0.5671675304347844,\n",
       " 0.5240174834050288,\n",
       " 0.47398138358973496,\n",
       " 0.4206213204807165,\n",
       " 0.36870587521059206,\n",
       " 0.32246224615313707]"
      ]
     },
     "execution_count": 51,
     "metadata": {},
     "output_type": "execute_result"
    }
   ],
   "source": [
    "y1"
   ]
  },
  {
   "cell_type": "code",
   "execution_count": 52,
   "id": "c421d2c5-09dc-4d8e-9d90-433d7334a1ed",
   "metadata": {},
   "outputs": [],
   "source": [
    "\n"
   ]
  },
  {
   "cell_type": "code",
   "execution_count": 63,
   "id": "57e123fd-1125-4b0e-8530-194b447bca58",
   "metadata": {},
   "outputs": [
    {
     "data": {
      "image/png": "[encoded data removed]",
      "text/plain": [
       "<Figure size 432x288 with 1 Axes>"
      ]
     },
     "metadata": {
      "needs_background": "light"
     },
     "output_type": "display_data"
    }
   ],
   "source": [
    "# epochs = get_plot_array(results[\"Classification_Sigmoid_%s\"% (2+1)], \"epoch\")\n",
    "# df = pd.DataFrame({\"epoch\": epochs})\n",
    "epochs = get_plot_array(results[\"Classification_Sigmoid_%s\"% (2+1)], \"epoch\")\n",
    "df = pd.DataFrame({\"epoch\": epochs})\n",
    "for i in range(2,6):\n",
    "    o = results[\"Classification_Sigmoid_%s\"% (i+1)]\n",
    "    x = get_plot_array(o, \"epoch\")\n",
    "    y1 = get_plot_array(o, \"train_loss\")\n",
    "    y2 = get_plot_array(o, \"test_loss\")\n",
    "    \n",
    "    sns.lineplot(x=x, y=y1, legend=\"auto\", label=\"train_loss_num_layer_%s\" % i, linestyle=\"--\")\n",
    "    sns.lineplot(x=x, y=y2, legend=\"auto\", label=\"test_loss_num_layer_%s\" % i)\n",
    "\n",
    "plt.xlabel(\"epochs\")\n",
    "plt.ylabel(\"log_binary_loss\")\n",
    "plt.savefig(\"figs/classfication/num_layer_with_epoch.png\")"
   ]
  },
  {
   "cell_type": "code",
   "execution_count": null,
   "id": "3ccde263-b605-45b6-8d9e-8330d4b3baea",
   "metadata": {},
   "outputs": [],
   "source": []
  },
  {
   "cell_type": "code",
   "execution_count": 76,
   "id": "1f345099-b043-4ff4-9947-d94e7b5dbc6a",
   "metadata": {},
   "outputs": [
    {
     "name": "stdout",
     "output_type": "stream",
     "text": [
      "2\n",
      "(455, 31) (114, 31)\n",
      "Epoch 0\n",
      "train_loss: [[1.71611632]]\n",
      "test_loss: [[0.97349213]]\n",
      "Epoch 99\n",
      "train_loss: [[0.13124474]]\n",
      "test_loss: [[0.17522394]]\n",
      "3\n",
      "(455, 31) (114, 31)\n",
      "Epoch 0\n",
      "train_loss: [[0.82011471]]\n",
      "test_loss: [[0.56717878]]\n",
      "Epoch 99\n",
      "train_loss: [[0.17888348]]\n",
      "test_loss: [[0.18523654]]\n",
      "4\n",
      "(455, 31) (114, 31)\n",
      "Epoch 0\n",
      "train_loss: [[0.68878247]]\n",
      "test_loss: [[0.59656284]]\n",
      "Epoch 99\n",
      "train_loss: [[0.12615425]]\n",
      "test_loss: [[0.14438431]]\n",
      "5\n",
      "(455, 31) (114, 31)\n",
      "Epoch 0\n",
      "train_loss: [[0.83197791]]\n",
      "test_loss: [[0.99682848]]\n",
      "Epoch 99\n",
      "train_loss: [[0.2182736]]\n",
      "test_loss: [[0.18733014]]\n",
      "6\n",
      "(455, 31) (114, 31)\n",
      "Epoch 0\n",
      "train_loss: [[0.69675142]]\n",
      "test_loss: [[0.76248546]]\n",
      "Epoch 99\n",
      "train_loss: [[0.16334655]]\n",
      "test_loss: [[0.21426895]]\n",
      "7\n",
      "(455, 31) (114, 31)\n",
      "Epoch 0\n",
      "train_loss: [[0.78545326]]\n",
      "test_loss: [[0.51716957]]\n",
      "Epoch 99\n",
      "train_loss: [[0.15897442]]\n",
      "test_loss: [[0.15017394]]\n",
      "8\n",
      "(455, 31) (114, 31)\n",
      "Epoch 0\n",
      "train_loss: [[0.90707669]]\n",
      "test_loss: [[1.08858206]]\n",
      "Epoch 99\n",
      "train_loss: [[0.65825775]]\n",
      "test_loss: [[0.59296644]]\n",
      "9\n",
      "(455, 31) (114, 31)\n",
      "Epoch 0\n",
      "train_loss: [[0.74179604]]\n",
      "test_loss: [[0.53423353]]\n",
      "Epoch 99\n",
      "train_loss: [[0.60082994]]\n",
      "test_loss: [[0.55508136]]\n",
      "10\n",
      "(455, 31) (114, 31)\n",
      "Epoch 0\n",
      "train_loss: [[1.09384276]]\n",
      "test_loss: [[1.36453435]]\n",
      "Epoch 99\n",
      "train_loss: [[0.67668849]]\n",
      "test_loss: [[0.61473235]]\n",
      "11\n",
      "(455, 31) (114, 31)\n",
      "Epoch 0\n",
      "train_loss: [[0.96191649]]\n",
      "test_loss: [[0.59074873]]\n",
      "Epoch 99\n",
      "train_loss: [[0.67591568]]\n",
      "test_loss: [[0.60896723]]\n",
      "12\n",
      "(455, 31) (114, 31)\n",
      "Epoch 0\n",
      "train_loss: [[0.81775356]]\n",
      "test_loss: [[0.54373081]]\n",
      "Epoch 99\n",
      "train_loss: [[0.67518942]]\n",
      "test_loss: [[0.606997]]\n",
      "13\n",
      "(455, 31) (114, 31)\n",
      "Epoch 0\n",
      "train_loss: [[0.89796417]]\n",
      "test_loss: [[0.56609623]]\n",
      "Epoch 99\n",
      "train_loss: [[0.67249621]]\n",
      "test_loss: [[0.6103186]]\n",
      "14\n",
      "(455, 31) (114, 31)\n",
      "Epoch 0\n",
      "train_loss: [[0.96289363]]\n",
      "test_loss: [[0.59018083]]\n",
      "Epoch 99\n",
      "train_loss: [[0.676037]]\n",
      "test_loss: [[0.61080587]]\n",
      "15\n",
      "(455, 31) (114, 31)\n",
      "Epoch 0\n",
      "train_loss: [[0.98596821]]\n",
      "test_loss: [[0.59855004]]\n",
      "Epoch 99\n",
      "train_loss: [[0.67500802]]\n",
      "test_loss: [[0.6089174]]\n",
      "16\n",
      "(455, 31) (114, 31)\n",
      "Epoch 0\n",
      "train_loss: [[0.67736833]]\n",
      "test_loss: [[0.62431917]]\n",
      "Epoch 99\n",
      "train_loss: [[0.67626869]]\n",
      "test_loss: [[0.61083366]]\n",
      "17\n",
      "(455, 31) (114, 31)\n",
      "Epoch 0\n",
      "train_loss: [[1.21390407]]\n",
      "test_loss: [[0.70262816]]\n",
      "Epoch 99\n",
      "train_loss: [[0.67647555]]\n",
      "test_loss: [[0.60571984]]\n",
      "18\n",
      "(455, 31) (114, 31)\n",
      "Epoch 0\n",
      "train_loss: [[0.7622849]]\n",
      "test_loss: [[0.84633895]]\n",
      "Epoch 99\n",
      "train_loss: [[0.67640143]]\n",
      "test_loss: [[0.6116603]]\n",
      "19\n",
      "(455, 31) (114, 31)\n",
      "Epoch 0\n",
      "train_loss: [[0.69901139]]\n",
      "test_loss: [[0.71076545]]\n",
      "Epoch 99\n",
      "train_loss: [[0.67636742]]\n",
      "test_loss: [[0.60550748]]\n"
     ]
    },
    {
     "data": {
      "image/png": "[encoded data removed]",
      "text/plain": [
       "<Figure size 432x288 with 1 Axes>"
      ]
     },
     "metadata": {
      "needs_background": "light"
     },
     "output_type": "display_data"
    }
   ],
   "source": [
    "results = {}\n",
    "for i in range(2,20):\n",
    "    print(i)\n",
    "    demo_params = {\n",
    "        \"num_units\": \",\".join([\"20\" for j in range(i)]),\n",
    "        \"activation_func\": \"Sigmoid\",\n",
    "        \"batch_size\": 32,\n",
    "        \"num_epochs\": 100,\n",
    "        \"learning_rate\": 1e-2,\n",
    "        \"momentum\": 0.9,\n",
    "        \"test_ratio\": 0.2,\n",
    "\n",
    "        \"input_data\": \"./data/BreastCancer.data\",\n",
    "        \"loss_func\": \"log_binary_loss\",\n",
    "        # \"l2_norm\": 0.1\n",
    "        \"l2_norm\": 5e-3,\n",
    "        \"log_step\": 99\n",
    "    }\n",
    "    o = train_func(**demo_params)\n",
    "    results[\"Classification_Sigmoid_%s\"% (i+1)]  = o\n",
    "    \n",
    "    # sns.lineplot(x=get_plot_array(o, \"data\"), y=\"train_loss\", legend=\"auto\", label=\"train_loss_Sigmoid\", linestyle=\"--\")\n",
    "\n",
    "\n",
    "epochs = get_plot_array(results[\"Classification_Sigmoid_%s\"% (2+1)], \"epoch\")\n",
    "df = pd.DataFrame({\"epoch\": epochs})\n",
    "x = []\n",
    "y1 = []\n",
    "y2 = []\n",
    "for i in range(2,20):\n",
    "    o = results[\"Classification_Sigmoid_%s\"% (i+1)]\n",
    "    x.append(i)\n",
    "    # x = get_plot_array(o, \"epoch\")\n",
    "    y1.append(get_plot_array(o, \"train_loss\")[-1])\n",
    "    y2.append(get_plot_array(o, \"test_loss\")[-1])\n",
    "    \n",
    "sns.lineplot(x=x, y=y1, legend=\"auto\", label=\"train_loss_num_layer_%s\" % i, linestyle=\"--\")\n",
    "sns.lineplot(x=x, y=y2, legend=\"auto\", label=\"test_loss_num_layer_%s\" % i)\n",
    "\n",
    "plt.xlabel(\"num_layer\")\n",
    "plt.ylabel(\"log_binary_loss\")\n",
    "plt.savefig(\"figs/classfication/num_layer.png\")"
   ]
  },
  {
   "cell_type": "code",
   "execution_count": 71,
   "id": "e4506446-d6fa-4755-8512-847cb4dc5021",
   "metadata": {},
   "outputs": [
    {
     "data": {
      "text/plain": [
       "[8, 28, 48, 68, 88, 108, 128, 148]"
      ]
     },
     "execution_count": 71,
     "metadata": {},
     "output_type": "execute_result"
    }
   ],
   "source": [
    "list(range(8, 8*20, 20))"
   ]
  },
  {
   "cell_type": "code",
   "execution_count": 72,
   "id": "949f0f59-e71a-4d4a-9e4e-0d45ec1887aa",
   "metadata": {},
   "outputs": [
    {
     "name": "stdout",
     "output_type": "stream",
     "text": [
      "8\n",
      "(455, 31) (114, 31)\n",
      "Epoch 0\n",
      "train_loss: [[1.0142635]]\n",
      "test_loss: [[0.62858085]]\n",
      "Epoch 99\n",
      "train_loss: [[0.23373953]]\n",
      "test_loss: [[0.25392533]]\n",
      "16\n",
      "(455, 31) (114, 31)\n",
      "Epoch 0\n",
      "train_loss: [[1.07083485]]\n",
      "test_loss: [[1.43412206]]\n",
      "Epoch 99\n",
      "train_loss: [[0.13365773]]\n",
      "test_loss: [[0.12596194]]\n",
      "24\n",
      "(455, 31) (114, 31)\n",
      "Epoch 0\n",
      "train_loss: [[0.82688727]]\n",
      "test_loss: [[1.00306345]]\n",
      "Epoch 99\n",
      "train_loss: [[0.13718473]]\n",
      "test_loss: [[0.13987913]]\n",
      "32\n",
      "(455, 31) (114, 31)\n",
      "Epoch 0\n",
      "train_loss: [[1.31654684]]\n",
      "test_loss: [[0.90759366]]\n",
      "Epoch 99\n",
      "train_loss: [[0.09983662]]\n",
      "test_loss: [[0.16058641]]\n",
      "40\n",
      "(455, 31) (114, 31)\n",
      "Epoch 0\n",
      "train_loss: [[0.64182987]]\n",
      "test_loss: [[0.61506741]]\n",
      "Epoch 99\n",
      "train_loss: [[0.10610658]]\n",
      "test_loss: [[0.16221289]]\n",
      "48\n",
      "(455, 31) (114, 31)\n",
      "Epoch 0\n",
      "train_loss: [[2.27676582]]\n",
      "test_loss: [[2.42354499]]\n",
      "Epoch 99\n",
      "train_loss: [[0.07537279]]\n",
      "test_loss: [[0.1280871]]\n",
      "56\n",
      "(455, 31) (114, 31)\n",
      "Epoch 0\n",
      "train_loss: [[0.83019911]]\n",
      "test_loss: [[0.88007728]]\n",
      "Epoch 99\n",
      "train_loss: [[0.0961422]]\n",
      "test_loss: [[0.16696737]]\n",
      "64\n",
      "(455, 31) (114, 31)\n",
      "Epoch 0\n",
      "train_loss: [[0.80663143]]\n",
      "test_loss: [[1.03608525]]\n",
      "Epoch 99\n",
      "train_loss: [[0.08526298]]\n",
      "test_loss: [[0.15598528]]\n",
      "72\n",
      "(455, 31) (114, 31)\n",
      "Epoch 0\n",
      "train_loss: [[0.5976212]]\n",
      "test_loss: [[0.83420513]]\n",
      "Epoch 99\n",
      "train_loss: [[0.07414595]]\n",
      "test_loss: [[0.16158385]]\n",
      "80\n",
      "(455, 31) (114, 31)\n",
      "Epoch 0\n",
      "train_loss: [[1.61649732]]\n",
      "test_loss: [[2.1069889]]\n",
      "Epoch 99\n",
      "train_loss: [[0.05539496]]\n",
      "test_loss: [[0.1428605]]\n",
      "88\n",
      "(455, 31) (114, 31)\n",
      "Epoch 0\n",
      "train_loss: [[1.09440749]]\n",
      "test_loss: [[2.00621537]]\n",
      "Epoch 99\n",
      "train_loss: [[0.0615014]]\n",
      "test_loss: [[0.21303116]]\n",
      "96\n",
      "(455, 31) (114, 31)\n",
      "Epoch 0\n",
      "train_loss: [[2.21661353]]\n",
      "test_loss: [[1.61802766]]\n",
      "Epoch 99\n",
      "train_loss: [[0.0604584]]\n",
      "test_loss: [[0.12359256]]\n",
      "104\n",
      "(455, 31) (114, 31)\n",
      "Epoch 0\n",
      "train_loss: [[1.26618848]]\n",
      "test_loss: [[0.79781478]]\n",
      "Epoch 99\n",
      "train_loss: [[0.05751981]]\n",
      "test_loss: [[0.10735211]]\n",
      "112\n",
      "(455, 31) (114, 31)\n",
      "Epoch 0\n",
      "train_loss: [[2.70977742]]\n",
      "test_loss: [[1.60248969]]\n",
      "Epoch 99\n",
      "train_loss: [[0.0486188]]\n",
      "test_loss: [[0.20033107]]\n",
      "120\n",
      "(455, 31) (114, 31)\n",
      "Epoch 0\n",
      "train_loss: [[2.16992499]]\n",
      "test_loss: [[2.7994518]]\n",
      "Epoch 99\n",
      "train_loss: [[0.05039382]]\n",
      "test_loss: [[0.19113174]]\n",
      "128\n",
      "(455, 31) (114, 31)\n",
      "Epoch 0\n",
      "train_loss: [[2.30817214]]\n",
      "test_loss: [[3.73753449]]\n",
      "Epoch 99\n",
      "train_loss: [[0.04653903]]\n",
      "test_loss: [[0.14176011]]\n",
      "136\n",
      "(455, 31) (114, 31)\n",
      "Epoch 0\n",
      "train_loss: [[1.53274049]]\n",
      "test_loss: [[1.13531828]]\n",
      "Epoch 99\n",
      "train_loss: [[0.05074952]]\n",
      "test_loss: [[0.11352415]]\n",
      "144\n",
      "(455, 31) (114, 31)\n",
      "Epoch 0\n",
      "train_loss: [[3.3262652]]\n",
      "test_loss: [[1.92527581]]\n",
      "Epoch 99\n",
      "train_loss: [[0.04287785]]\n",
      "test_loss: [[0.12661101]]\n",
      "152\n",
      "(455, 31) (114, 31)\n",
      "Epoch 0\n",
      "train_loss: [[3.17082838]]\n",
      "test_loss: [[1.68736008]]\n",
      "Epoch 99\n",
      "train_loss: [[0.03204345]]\n",
      "test_loss: [[0.14842397]]\n"
     ]
    }
   ],
   "source": []
  },
  {
   "cell_type": "code",
   "execution_count": 75,
   "id": "8cc5dabd-7a58-4ab9-ae76-fc1c050ce1ab",
   "metadata": {},
   "outputs": [
    {
     "data": {
      "image/png": "[encoded data removed]",
      "text/plain": [
       "<Figure size 432x288 with 1 Axes>"
      ]
     },
     "metadata": {
      "needs_background": "light"
     },
     "output_type": "display_data"
    }
   ],
   "source": [
    "\n",
    "results = {}\n",
    "for i in range(8, 8*20, 8):\n",
    "    print(i)\n",
    "    demo_params = {\n",
    "        \"num_units\": \"%d,%d\"%(i,i),\n",
    "        \"activation_func\": \"Sigmoid\",\n",
    "        \"batch_size\": 32,\n",
    "        \"num_epochs\": 100,\n",
    "        \"learning_rate\": 1e-2,\n",
    "        \"momentum\": 0.9,\n",
    "        \"test_ratio\": 0.2,\n",
    "\n",
    "        \"input_data\": \"./data/BreastCancer.data\",\n",
    "        \"loss_func\": \"log_binary_loss\",\n",
    "        # \"l2_norm\": 0.1\n",
    "        \"l2_norm\": 5e-3,\n",
    "        \"log_step\": 99\n",
    "    }\n",
    "    o = train_func(**demo_params)\n",
    "    results[\"Classification_Sigmoid_%s\"% (i+1)]  = o\n",
    "    \n",
    "    # sns.lineplot(x=get_plot_array(o, \"data\"), y=\"train_loss\", legend=\"auto\", label=\"train_loss_Sigmoid\", linestyle=\"--\")\n",
    "\n",
    "# epochs = get_plot_array(results[\"Classification_Sigmoid_%s\"% (2+1)], \"epoch\")\n",
    "# df = pd.DataFrame({\"epoch\": epochs})\n",
    "x = []\n",
    "y1 = []\n",
    "y2 = []\n",
    "for i in range(8, 8*20, 8):\n",
    "    o = results[\"Classification_Sigmoid_%s\"% (i+1)]\n",
    "    x.append(i)\n",
    "    # x = get_plot_array(o, \"epoch\")\n",
    "    y1.append(get_plot_array(o, \"train_loss\")[-1])\n",
    "    y2.append(get_plot_array(o, \"test_loss\")[-1])\n",
    "    \n",
    "sns.lineplot(x=x, y=y1, legend=\"auto\", label=\"train_loss\", linestyle=\"--\")\n",
    "sns.lineplot(x=x, y=y2, legend=\"auto\", label=\"test_loss\")\n",
    "\n",
    "plt.title(\"num_units_per_layer(num_layer=2)\")\n",
    "plt.xlabel(\"num_units_per_layer\")\n",
    "plt.ylabel(\"log_binary_loss\")\n",
    "plt.savefig(\"figs/classfication/num_units_per_layer.png\")"
   ]
  },
  {
   "cell_type": "code",
   "execution_count": 55,
   "id": "070a5702-605d-4f9d-b0ec-ce75a6457f9a",
   "metadata": {},
   "outputs": [
    {
     "data": {
      "text/plain": [
       "{'params': {'num_units': '16,16,16,16,16',\n",
       "  'activation_func': 'Sigmoid',\n",
       "  'batch_size': 32,\n",
       "  'num_epochs': 100,\n",
       "  'learning_rate': 0.01,\n",
       "  'momentum': 0.9,\n",
       "  'test_ratio': 0.2,\n",
       "  'input_data': './data/BreastCancer.data',\n",
       "  'loss_func': 'log_binary_loss',\n",
       "  'l2_norm': 0.005,\n",
       "  'log_step': 10},\n",
       " 'reports': [{'epoch': 0,\n",
       "   'train_loss': 1.457880110907106,\n",
       "   'l2_loss': 1.457880110907106,\n",
       "   'test_loss': 0.8152280805828483},\n",
       "  {'epoch': 10,\n",
       "   'train_loss': 0.6486197924746662,\n",
       "   'l2_loss': 0.6486197924746662,\n",
       "   'test_loss': 0.5664663982342124},\n",
       "  {'epoch': 20,\n",
       "   'train_loss': 0.627814111759381,\n",
       "   'l2_loss': 0.627814111759381,\n",
       "   'test_loss': 0.5560117263663068},\n",
       "  {'epoch': 30,\n",
       "   'train_loss': 0.6015606210087241,\n",
       "   'l2_loss': 0.6015606210087241,\n",
       "   'test_loss': 0.5365908750657203},\n",
       "  {'epoch': 40,\n",
       "   'train_loss': 0.5671675304347844,\n",
       "   'l2_loss': 0.5671675304347844,\n",
       "   'test_loss': 0.5077917415491481},\n",
       "  {'epoch': 50,\n",
       "   'train_loss': 0.5240174834050288,\n",
       "   'l2_loss': 0.5240174834050288,\n",
       "   'test_loss': 0.47077083022311905},\n",
       "  {'epoch': 60,\n",
       "   'train_loss': 0.47398138358973496,\n",
       "   'l2_loss': 0.47398138358973496,\n",
       "   'test_loss': 0.4338750737894691},\n",
       "  {'epoch': 70,\n",
       "   'train_loss': 0.4206213204807165,\n",
       "   'l2_loss': 0.4206213204807165,\n",
       "   'test_loss': 0.38984549691559983},\n",
       "  {'epoch': 80,\n",
       "   'train_loss': 0.36870587521059206,\n",
       "   'l2_loss': 0.36870587521059206,\n",
       "   'test_loss': 0.34079055646837153},\n",
       "  {'epoch': 90,\n",
       "   'train_loss': 0.32246224615313707,\n",
       "   'l2_loss': 0.32246224615313707,\n",
       "   'test_loss': 0.3012845932857082}]}"
      ]
     },
     "execution_count": 55,
     "metadata": {},
     "output_type": "execute_result"
    }
   ],
   "source": [
    "results[\"Classification_Sigmoid_%s\"% (i+1)]"
   ]
  },
  {
   "cell_type": "code",
   "execution_count": 54,
   "id": "49153caa-81fc-4943-ae8f-09605e9d4900",
   "metadata": {},
   "outputs": [
    {
     "data": {
      "text/plain": [
       "[0.7499831544004528,\n",
       " 0.4509082074216771,\n",
       " 0.32446293593315645,\n",
       " 0.258106661366169,\n",
       " 0.21835747052330862,\n",
       " 0.192155019478655,\n",
       " 0.17350172210228315,\n",
       " 0.15941361970296034,\n",
       " 0.1482505761950304,\n",
       " 0.13922763389394102]"
      ]
     },
     "execution_count": 54,
     "metadata": {},
     "output_type": "execute_result"
    }
   ],
   "source": [
    "epochs"
   ]
  },
  {
   "cell_type": "code",
   "execution_count": 41,
   "id": "a9ee250b-d3a2-4513-942f-8b4acc90e96f",
   "metadata": {},
   "outputs": [
    {
     "data": {
      "text/plain": [
       "dict_keys(['Classification_Tanh', 'Classification_Sigmoid', 'Classification_Sigmoid_3', 'Classification_Sigmoid_4', 'Classification_Sigmoid_5', 'Classification_Sigmoid_6'])"
      ]
     },
     "execution_count": 41,
     "metadata": {},
     "output_type": "execute_result"
    }
   ],
   "source": [
    "results.keys()"
   ]
  },
  {
   "cell_type": "code",
   "execution_count": null,
   "id": "74e83d6e-d1fa-4bf5-9b3c-893e3ad5d13d",
   "metadata": {},
   "outputs": [],
   "source": []
  }
 ],
 "metadata": {
  "kernelspec": {
   "display_name": "Python 3 (ipykernel)",
   "language": "python",
   "name": "python3"
  },
  "language_info": {
   "codemirror_mode": {
    "name": "ipython",
    "version": 3
   },
   "file_extension": ".py",
   "mimetype": "text/x-python",
   "name": "python",
   "nbconvert_exporter": "python",
   "pygments_lexer": "ipython3",
   "version": "3.9.12"
  }
 },
 "nbformat": 4,
 "nbformat_minor": 5
}
