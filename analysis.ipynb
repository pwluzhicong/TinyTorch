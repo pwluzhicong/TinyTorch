{
 "cells": [
  {
   "cell_type": "code",
   "execution_count": 1,
   "id": "f3e1a300-2f0e-4c1d-80d4-4ed29bf6d34f",
   "metadata": {},
   "outputs": [
    {
     "name": "stdout",
     "output_type": "stream",
     "text": [
      "[7 3 2 8 6 4 1 9 5 0]\n",
      "(455, 31) (114, 31)\n",
      "Epoch 0\n",
      "train_loss: [[0.98598199]]\n",
      "test_loss: [[0.95930329]]\n",
      "Epoch 10\n",
      "train_loss: [[0.41362905]]\n",
      "test_loss: [[0.34946487]]\n",
      "Epoch 20\n",
      "train_loss: [[0.30032686]]\n",
      "test_loss: [[0.27682359]]\n",
      "Epoch 30\n",
      "train_loss: [[0.25202667]]\n",
      "test_loss: [[0.25017115]]\n",
      "Epoch 40\n",
      "train_loss: [[0.2238619]]\n",
      "test_loss: [[0.23431645]]\n",
      "Epoch 50\n",
      "train_loss: [[0.20448332]]\n",
      "test_loss: [[0.2235803]]\n",
      "Epoch 60\n",
      "train_loss: [[0.18946389]]\n",
      "test_loss: [[0.21408013]]\n",
      "Epoch 70\n",
      "train_loss: [[0.17756259]]\n",
      "test_loss: [[0.20665427]]\n",
      "Epoch 80\n",
      "train_loss: [[0.16769803]]\n",
      "test_loss: [[0.19751732]]\n",
      "Epoch 90\n",
      "train_loss: [[0.15931515]]\n",
      "test_loss: [[0.19085707]]\n"
     ]
    }
   ],
   "source": [
    "from train_utils import *\n",
    "results = {}\n",
    "\n",
    "demo_params = {\n",
    "    \"num_units\": \"16,16\",\n",
    "    \"activation_func\": \"Tanh\",\n",
    "    \"batch_size\": 32,\n",
    "    \"num_epochs\": 100,\n",
    "    \"learning_rate\": 1e-2,\n",
    "    \"momentum\": 0.9,\n",
    "    \"test_ratio\": 0.2,\n",
    "    \n",
    "    \"input_data\": \"./data/BreastCancer.data\",\n",
    "    \"loss_func\": \"log_binary_loss\",\n",
    "    # \"l2_norm\": 0.1\n",
    "    \"l2_norm\": 5e-3,\n",
    "    \"log_step\": 10\n",
    "}\n",
    "# demo_params\n",
    "\n",
    "results[\"Classification_Tanh\"] = train_func(**demo_params)"
   ]
  },
  {
   "cell_type": "code",
   "execution_count": 2,
   "id": "c2d03801-5421-469f-9a0a-3a9656d334d7",
   "metadata": {},
   "outputs": [
    {
     "name": "stdout",
     "output_type": "stream",
     "text": [
      "(455, 31) (114, 31)\n",
      "Epoch 0\n",
      "train_loss: [[1.0669882]]\n",
      "test_loss: [[0.60846891]]\n",
      "Epoch 10\n",
      "train_loss: [[0.42961274]]\n",
      "test_loss: [[0.37358831]]\n",
      "Epoch 20\n",
      "train_loss: [[0.32176568]]\n",
      "test_loss: [[0.30512726]]\n",
      "Epoch 30\n",
      "train_loss: [[0.26223355]]\n",
      "test_loss: [[0.25508768]]\n",
      "Epoch 40\n",
      "train_loss: [[0.22424931]]\n",
      "test_loss: [[0.22212942]]\n",
      "Epoch 50\n",
      "train_loss: [[0.19780513]]\n",
      "test_loss: [[0.20002689]]\n",
      "Epoch 60\n",
      "train_loss: [[0.17841499]]\n",
      "test_loss: [[0.18299464]]\n",
      "Epoch 70\n",
      "train_loss: [[0.16350741]]\n",
      "test_loss: [[0.16984351]]\n",
      "Epoch 80\n",
      "train_loss: [[0.1516384]]\n",
      "test_loss: [[0.16063922]]\n",
      "Epoch 90\n",
      "train_loss: [[0.14184881]]\n",
      "test_loss: [[0.15265082]]\n"
     ]
    }
   ],
   "source": [
    "demo_params = {\n",
    "    \"num_units\": \"16,16\",\n",
    "    \"activation_func\": \"Sigmoid\",\n",
    "    \"batch_size\": 32,\n",
    "    \"num_epochs\": 100,\n",
    "    \"learning_rate\": 1e-2,\n",
    "    \"momentum\": 0.9,\n",
    "    \"test_ratio\": 0.2,\n",
    "    \n",
    "    \"input_data\": \"./data/BreastCancer.data\",\n",
    "    \"loss_func\": \"log_binary_loss\",\n",
    "    # \"l2_norm\": 0.1\n",
    "    \"l2_norm\": 5e-3,\n",
    "    \"log_step\": 10\n",
    "}\n",
    "results[\"Classification_Sigmoid\"] = train_func(**demo_params)\n"
   ]
  },
  {
   "cell_type": "code",
   "execution_count": null,
   "id": "2089dec0-4fa9-4210-9adb-57b85620d712",
   "metadata": {},
   "outputs": [],
   "source": []
  },
  {
   "cell_type": "code",
   "execution_count": 18,
   "id": "e2cf4956-99f1-4e61-80dc-6f107446dac3",
   "metadata": {},
   "outputs": [],
   "source": [
    "import seaborn as sns\n",
    "\n",
    "epochs = [o[\"epoch\"] for o in results[\"Classification_Sigmoid\"][\"reports\"]]\n",
    "train_loss = [o[\"train_loss\"] for o in results[\"Classification_Sigmoid\"][\"reports\"]]\n",
    "test_loss = [o[\"test_loss\"] for o in results[\"Classification_Sigmoid\"][\"reports\"]]\n",
    "\n",
    "\n",
    "train_loss_2 = [o[\"train_loss\"] for o in results[\"Classification_Tanh\"][\"reports\"]]\n",
    "test_loss_2 = [o[\"test_loss\"] for o in results[\"Classification_Tanh\"][\"reports\"]]\n",
    "l2_loss = [o[\"l2_loss\"] for o in results[\"Classification_Tanh\"][\"reports\"]]\n"
   ]
  },
  {
   "cell_type": "code",
   "execution_count": 21,
   "id": "f0af1c1b-b8b9-4a42-9a59-3e22102fbf3d",
   "metadata": {},
   "outputs": [],
   "source": [
    "import pandas as pd\n",
    "\n",
    "data = pd.DataFrame({\"epochs\": epochs, \"train_loss\": train_loss, \"test_loss\": test_loss, \"train_loss_2\":train_loss_2, \"test_loss_2\": test_loss_2, \"l2_loss\": l2_loss})"
   ]
  },
  {
   "cell_type": "code",
   "execution_count": 34,
   "id": "df85d830-67e4-4aca-af9c-e8572c504dcd",
   "metadata": {},
   "outputs": [
    {
     "data": {
      "text/plain": [
       "<AxesSubplot:xlabel='epochs', ylabel='train_loss'>"
      ]
     },
     "execution_count": 34,
     "metadata": {},
     "output_type": "execute_result"
    },
    {
     "data": {
      "image/png": "[encoded data removed]",
      "text/plain": [
       "<Figure size 432x288 with 1 Axes>"
      ]
     },
     "metadata": {
      "needs_background": "light"
     },
     "output_type": "display_data"
    }
   ],
   "source": [
    "import matplotlib.pyplot as plt\n",
    "\n",
    "fig = sns.lineplot(data=data, x=\"epochs\", y=\"train_loss\", legend=\"auto\", label=\"train_loss_Sigmoid\", linestyle=\"--\")\n",
    "sns.lineplot(data=data, x=\"epochs\", y=\"test_loss\", legend=\"auto\", label=\"test_loss_Sigmoid\")\n",
    "\n",
    "sns.lineplot(data=data, x=\"epochs\", y=\"train_loss_2\", legend=\"auto\", label=\"train_loss_Tanh\", linestyle=\"--\")\n",
    "sns.lineplot(data=data, x=\"epochs\", y=\"test_loss_2\", legend=\"auto\", label=\"test_loss_Tanh\")\n",
    "\n",
    "fig\n",
    "# sns.lineplot(x=epochs, y=test_loss)"
   ]
  },
  {
   "cell_type": "code",
   "execution_count": 4,
   "id": "359d5907-8788-40be-b77d-ceb9d385dd65",
   "metadata": {},
   "outputs": [
    {
     "data": {
      "text/plain": [
       "{'epoch': 0,\n",
       " 'train_loss': 1.5074295974530283,\n",
       " 'l2_loss': 1.5074295974530283,\n",
       " 'test_loss': 0.8671053649841365}"
      ]
     },
     "execution_count": 4,
     "metadata": {},
     "output_type": "execute_result"
    }
   ],
   "source": [
    "result[\"reports\"][0]"
   ]
  },
  {
   "cell_type": "code",
   "execution_count": null,
   "id": "9a467495-8987-456c-9195-972b90f66d75",
   "metadata": {},
   "outputs": [],
   "source": []
  }
 ],
 "metadata": {
  "kernelspec": {
   "display_name": "Python 3 (ipykernel)",
   "language": "python",
   "name": "python3"
  },
  "language_info": {
   "codemirror_mode": {
    "name": "ipython",
    "version": 3
   },
   "file_extension": ".py",
   "mimetype": "text/x-python",
   "name": "python",
   "nbconvert_exporter": "python",
   "pygments_lexer": "ipython3",
   "version": "3.9.12"
  }
 },
 "nbformat": 4,
 "nbformat_minor": 5
}
