{
 "cells": [
  {
   "cell_type": "code",
   "execution_count": 44,
   "id": "f3e1a300-2f0e-4c1d-80d4-4ed29bf6d34f",
   "metadata": {
    "dotnet_interactive": {
     "language": "csharp"
    }
   },
   "outputs": [
    {
     "name": "stdout",
     "output_type": "stream",
     "text": [
      "(246, 7) (62, 7)\n",
      "Epoch 0\n",
      "train_loss: [[1.0359808]]\n",
      "test_loss: [[1.19361873]]\n",
      "Epoch 10\n",
      "train_loss: [[0.42808264]]\n",
      "test_loss: [[0.52131064]]\n",
      "Epoch 20\n",
      "train_loss: [[0.38960928]]\n",
      "test_loss: [[0.54495381]]\n",
      "Epoch 30\n",
      "train_loss: [[0.36809045]]\n",
      "test_loss: [[0.57053043]]\n",
      "Epoch 40\n",
      "train_loss: [[0.34936669]]\n",
      "test_loss: [[0.58525715]]\n",
      "Epoch 50\n",
      "train_loss: [[0.33369248]]\n",
      "test_loss: [[0.60207282]]\n",
      "Epoch 60\n",
      "train_loss: [[0.32042782]]\n",
      "test_loss: [[0.61859202]]\n",
      "Epoch 70\n",
      "train_loss: [[0.30889855]]\n",
      "test_loss: [[0.62290582]]\n",
      "Epoch 80\n",
      "train_loss: [[0.29941501]]\n",
      "test_loss: [[0.62262626]]\n",
      "Epoch 90\n",
      "train_loss: [[0.29087573]]\n",
      "test_loss: [[0.61600257]]\n"
     ]
    },
    {
     "data": {
      "text/plain": [
       "True"
      ]
     },
     "execution_count": 44,
     "metadata": {},
     "output_type": "execute_result"
    }
   ],
   "source": [
    "from train_utils import *\n",
    "results = {}\n",
    "\n",
    "demo_params = {\n",
    "    \"num_units\": \"8,8\",\n",
    "    \"activation_func\": \"tanh\",\n",
    "    \"batch_size\": 8,\n",
    "    \"num_epochs\": 100,\n",
    "    \"learning_rate\": 1e-2,\n",
    "    \"momentum\": 0.9,\n",
    "    \"test_ratio\": 0.2,\n",
    "    \n",
    "    # \"input_data\": \"./data/BreastCancer.data\",\n",
    "    \"input_data\": \"./data/yacht.data\",\n",
    "\n",
    "    \"loss_func\": \"square_loss\",\n",
    "    # \"l2_norm\": 0.1\n",
    "    \"l2_norm\": 5e-3,\n",
    "    \"log_step\": 10\n",
    "}\n",
    "# demo_params\n",
    "\n",
    "results[\"Classification_Tanh\"] = train_func(**demo_params)\n",
    "True"
   ]
  },
  {
   "cell_type": "code",
   "execution_count": 45,
   "id": "c2d03801-5421-469f-9a0a-3a9656d334d7",
   "metadata": {
    "dotnet_interactive": {
     "language": "csharp"
    }
   },
   "outputs": [
    {
     "name": "stdout",
     "output_type": "stream",
     "text": [
      "(246, 7) (62, 7)\n",
      "Epoch 0\n",
      "train_loss: [[1.32765602]]\n",
      "test_loss: [[1.68489781]]\n",
      "Epoch 10\n",
      "train_loss: [[0.67670453]]\n",
      "test_loss: [[0.85468671]]\n",
      "Epoch 20\n",
      "train_loss: [[0.48567672]]\n",
      "test_loss: [[0.59072946]]\n",
      "Epoch 30\n",
      "train_loss: [[0.4157376]]\n",
      "test_loss: [[0.49314709]]\n",
      "Epoch 40\n",
      "train_loss: [[0.38895865]]\n",
      "test_loss: [[0.46000294]]\n",
      "Epoch 50\n",
      "train_loss: [[0.37235337]]\n",
      "test_loss: [[0.44736515]]\n",
      "Epoch 60\n",
      "train_loss: [[0.35909265]]\n",
      "test_loss: [[0.43801002]]\n",
      "Epoch 70\n",
      "train_loss: [[0.34632499]]\n",
      "test_loss: [[0.42574986]]\n",
      "Epoch 80\n",
      "train_loss: [[0.3339412]]\n",
      "test_loss: [[0.41286384]]\n",
      "Epoch 90\n",
      "train_loss: [[0.32237711]]\n",
      "test_loss: [[0.40015485]]\n"
     ]
    },
    {
     "data": {
      "text/plain": [
       "True"
      ]
     },
     "execution_count": 45,
     "metadata": {},
     "output_type": "execute_result"
    }
   ],
   "source": [
    "from train_utils import *\n",
    "\n",
    "demo_params = {\n",
    "    \"num_units\": \"8,8\",\n",
    "    \"activation_func\": \"sigmoid\",\n",
    "    \"batch_size\": 8,\n",
    "    \"num_epochs\": 100,\n",
    "    \"learning_rate\": 1e-2,\n",
    "    \"momentum\": 0.9,\n",
    "    \"test_ratio\": 0.2,\n",
    "    \n",
    "    # \"input_data\": \"./data/BreastCancer.data\",\n",
    "    \"input_data\": \"./data/yacht.data\",\n",
    "\n",
    "    \"loss_func\": \"square_loss\",\n",
    "    # \"l2_norm\": 0.1\n",
    "    \"l2_norm\": 5e-3,\n",
    "    \"log_step\": 10\n",
    "}\n",
    "# demo_params\n",
    "\n",
    "results[\"Classification_Sigmoid\"] = train_func(**demo_params)\n",
    "True"
   ]
  },
  {
   "cell_type": "code",
   "execution_count": 46,
   "id": "e2cf4956-99f1-4e61-80dc-6f107446dac3",
   "metadata": {
    "dotnet_interactive": {
     "language": "csharp"
    }
   },
   "outputs": [],
   "source": [
    "import seaborn as sns\n",
    "\n",
    "epochs = [o[\"epoch\"] for o in results[\"Classification_Sigmoid\"][\"reports\"]]\n",
    "train_loss = [o[\"train_loss\"] for o in results[\"Classification_Sigmoid\"][\"reports\"]]\n",
    "test_loss = [o[\"test_loss\"] for o in results[\"Classification_Sigmoid\"][\"reports\"]]\n",
    "\n",
    "\n",
    "train_loss_2 = [o[\"train_loss\"] for o in results[\"Classification_Tanh\"][\"reports\"]]\n",
    "test_loss_2 = [o[\"test_loss\"] for o in results[\"Classification_Tanh\"][\"reports\"]]\n",
    "l2_loss = [o[\"l2_loss\"] for o in results[\"Classification_Tanh\"][\"reports\"]]\n"
   ]
  },
  {
   "cell_type": "code",
   "execution_count": 47,
   "id": "f0af1c1b-b8b9-4a42-9a59-3e22102fbf3d",
   "metadata": {
    "dotnet_interactive": {
     "language": "csharp"
    }
   },
   "outputs": [],
   "source": [
    "import pandas as pd\n",
    "\n",
    "data = pd.DataFrame({\"epochs\": epochs, \"train_loss\": train_loss, \"test_loss\": test_loss, \"train_loss_2\":train_loss_2, \"test_loss_2\": test_loss_2, \"l2_loss\": l2_loss})"
   ]
  },
  {
   "cell_type": "code",
   "execution_count": 48,
   "id": "df85d830-67e4-4aca-af9c-e8572c504dcd",
   "metadata": {
    "dotnet_interactive": {
     "language": "csharp"
    }
   },
   "outputs": [
    {
     "data": {
      "text/plain": [
       "<matplotlib.axes._subplots.AxesSubplot at 0x7fb7ad23f790>"
      ]
     },
     "execution_count": 48,
     "metadata": {},
     "output_type": "execute_result"
    },
    {
     "data": {
      "image/png": "[encoded data removed]",
      "text/plain": [
       "<Figure size 432x288 with 1 Axes>"
      ]
     },
     "metadata": {
      "needs_background": "light"
     },
     "output_type": "display_data"
    }
   ],
   "source": [
    "import matplotlib.pyplot as plt\n",
    "\n",
    "fig = sns.lineplot(data=data, x=\"epochs\", y=\"train_loss\", legend=\"full\", label=\"train_loss_Sigmoid\", linestyle=\"--\")\n",
    "sns.lineplot(data=data, x=\"epochs\", y=\"test_loss\", legend=\"full\", label=\"test_loss_Sigmoid\")\n",
    "\n",
    "sns.lineplot(data=data, x=\"epochs\", y=\"train_loss_2\", legend=\"full\", label=\"train_loss_Tanh\", linestyle=\"--\")\n",
    "sns.lineplot(data=data, x=\"epochs\", y=\"test_loss_2\", legend=\"full\", label=\"test_loss_Tanh\")\n",
    "\n",
    "fig\n",
    "# sns.lineplot(x=epochs, y=test_loss)"
   ]
  },
  {
   "cell_type": "code",
   "execution_count": 49,
   "id": "359d5907-8788-40be-b77d-ceb9d385dd65",
   "metadata": {
    "dotnet_interactive": {
     "language": "csharp"
    }
   },
   "outputs": [
    {
     "ename": "NameError",
     "evalue": "name 'result' is not defined",
     "output_type": "error",
     "traceback": [
      "\u001b[0;31m---------------------------------------------------------------------------\u001b[0m",
      "\u001b[0;31mNameError\u001b[0m                                 Traceback (most recent call last)",
      "\u001b[0;32m<ipython-input-49-a673473faab3>\u001b[0m in \u001b[0;36m<module>\u001b[0;34m\u001b[0m\n\u001b[0;32m----> 1\u001b[0;31m \u001b[0mresult\u001b[0m\u001b[0;34m[\u001b[0m\u001b[0;34m\"reports\"\u001b[0m\u001b[0;34m]\u001b[0m\u001b[0;34m[\u001b[0m\u001b[0;36m0\u001b[0m\u001b[0;34m]\u001b[0m\u001b[0;34m\u001b[0m\u001b[0;34m\u001b[0m\u001b[0m\n\u001b[0m",
      "\u001b[0;31mNameError\u001b[0m: name 'result' is not defined"
     ]
    }
   ],
   "source": [
    "result[\"reports\"][0]"
   ]
  },
  {
   "cell_type": "code",
   "execution_count": null,
   "id": "9a467495-8987-456c-9195-972b90f66d75",
   "metadata": {
    "dotnet_interactive": {
     "language": "csharp"
    }
   },
   "outputs": [],
   "source": []
  }
 ],
 "metadata": {
  "kernelspec": {
   "display_name": "Python 3",
   "language": "python",
   "name": "python3"
  },
  "language_info": {
   "codemirror_mode": {
    "name": "ipython",
    "version": 3
   },
   "file_extension": ".py",
   "mimetype": "text/x-python",
   "name": "python",
   "nbconvert_exporter": "python",
   "pygments_lexer": "ipython3",
   "version": "3.7.6"
  }
 },
 "nbformat": 4,
 "nbformat_minor": 5
}
