{
 "cells": [
  {
   "cell_type": "code",
   "execution_count": 1,
   "id": "9b017e1e-bfd3-40ab-b1ec-e358d6a5bf42",
   "metadata": {},
   "outputs": [
    {
     "data": {
      "text/plain": [
       "{'num_units': '32,16',\n",
       " 'activation_func': 'Sigmoid',\n",
       " 'batch_size': 16,\n",
       " 'num_epochs': 50,\n",
       " 'learning_rate': 0.01,\n",
       " 'momentum': 0.9,\n",
       " 'test_ratio': 0.2,\n",
       " 'input_data': './data/Parkinsons.data',\n",
       " 'loss_func': 'square_loss',\n",
       " 'l2_norm': 0.001}"
      ]
     },
     "execution_count": 1,
     "metadata": {},
     "output_type": "execute_result"
    }
   ],
   "source": [
    "demo_params = {\n",
    "    \"num_units\": \"32,16\",\n",
    "    \"activation_func\": \"Sigmoid\",\n",
    "    \"batch_size\": 16,\n",
    "    \"num_epochs\": 50,\n",
    "    \"learning_rate\": 1e-2,\n",
    "    \"momentum\": 0.9,\n",
    "    \"test_ratio\": 0.2,\n",
    "    \n",
    "    \"input_data\": \"./data/Parkinsons.data\",\n",
    "    \"loss_func\": \"square_loss\",\n",
    "    \"l2_norm\": 1e-3\n",
    "}\n",
    "demo_params"
   ]
  },
  {
   "cell_type": "code",
   "execution_count": 17,
   "id": "ab260b8d-e2a4-4d9d-9989-79c370740260",
   "metadata": {},
   "outputs": [
    {
     "data": {
      "text/plain": [
       "'a'"
      ]
     },
     "execution_count": 17,
     "metadata": {},
     "output_type": "execute_result"
    }
   ],
   "source": [
    "\"A\".lower()"
   ]
  },
  {
   "cell_type": "code",
   "execution_count": 2,
   "id": "cc278a67-63f4-43a3-bf2c-a2c8f0cb46de",
   "metadata": {},
   "outputs": [
    {
     "data": {
      "text/plain": [
       "array([[0.69314718]])"
      ]
     },
     "execution_count": 2,
     "metadata": {},
     "output_type": "execute_result"
    }
   ],
   "source": [
    "from tinytorch import log_binary_loss, Tensor\n",
    "\n",
    "y_pred = Tensor([[0], [0]])\n",
    "y = Tensor([[1], [0]])\n",
    "log_binary_loss(y_pred, y).values"
   ]
  },
  {
   "cell_type": "code",
   "execution_count": 15,
   "id": "00b9feb1-ad2e-42df-8300-a5d279c42c77",
   "metadata": {},
   "outputs": [],
   "source": [
    "import numpy as np\n",
    "from tinytorch import Tensor, MLP, Parameter, MomentumOptimizer, Linear, Sigmoid, square_loss, log_binary_loss\n",
    "from dataset import DataLoader\n",
    "\n",
    "def train_func(**params):\n",
    "    num_units = [int(x) for x in params[\"num_units\"].split(',')]\n",
    "    activation_func = params[\"activation_func\"]\n",
    "    batch_size = int(params[\"batch_size\"])\n",
    "    num_epochs = int(params[\"num_epochs\"])\n",
    "    learning_rate = float(params[\"learning_rate\"])\n",
    "    momentum = float(params[\"momentum\"])\n",
    "    l2_norm_coef = float(params[\"l2_norm\"])\n",
    "    \n",
    "    test_ratio = float(params[\"test_ratio\"])\n",
    "    input_data = np.genfromtxt(params[\"input_data\"], delimiter=',')[1:]\n",
    "    \n",
    "    train_data = input_data[: int(input_data.shape[0] * (1-test_ratio))]\n",
    "    test_data = input_data[int(input_data.shape[0] * (1-test_ratio)):]\n",
    "    \n",
    "    \n",
    "    log_step = int(params.get(\"log_step\", 1))\n",
    "    \n",
    "    loss_func = None\n",
    "    \n",
    "    if params[\"loss_func\"] == \"square_loss\":\n",
    "        loss_func = square_loss\n",
    "    elif params[\"loss_func\"] == \"log_binary_loss\":\n",
    "        loss_func = log_binary_loss\n",
    "    assert train_data.shape[-1] == test_data.shape[-1]\n",
    "    \n",
    "    print(train_data.shape, test_data.shape)\n",
    "    \n",
    "    Parameter.clear()\n",
    "    mlp = MLP(train_data.shape[-1]-1, 1, num_units, \"Sigmoid\", use_bias=False)\n",
    "    output_layer = Linear(num_units[-1], 1, use_bias=False)\n",
    "    \n",
    "    optimizer = MomentumOptimizer(Parameter.param_list, learning_rate, momentum)\n",
    "\n",
    "    \n",
    "    for epoch in range(num_epochs):\n",
    "        \n",
    "        for batch_idx, (batch_X, batch_y) in enumerate(DataLoader(train_data, shuffle=True, batch_size=16)):\n",
    "            # print(batch_idx)\n",
    "            input_x = Tensor(batch_X, requires_grad=False)\n",
    "            output_y = Tensor(np.expand_dims(batch_y,-1), requires_grad=False)\n",
    "            # print(input_x.values)\n",
    "            y_pred = mlp.forward(input_x)\n",
    "            loss = loss_func(y_pred,  output_y)\n",
    "\n",
    "            l2_loss = Tensor(np.zeros((1,1)))\n",
    "            for param in optimizer.params:\n",
    "                l2_loss = l2_loss + param.l2_norm(l2_norm_coef)\n",
    "\n",
    "            total_loss = loss + l2_loss\n",
    "            total_loss.backward()\n",
    "            # l2_loss.backward()\n",
    "            optimizer.step()\n",
    "        # break\n",
    "            \n",
    "            \n",
    "        # if(epoch % 10 == 0):\n",
    "        if epoch % log_step == 0:\n",
    "            print(\"Epoch %d\" % epoch)\n",
    "            for batch_idx, (batch_X, batch_y) in enumerate(DataLoader(train_data, shuffle=True, batch_size=train_data.shape[0])):\n",
    "                input_x = Tensor(batch_X, requires_grad=False)\n",
    "                output_y = Tensor(np.expand_dims(batch_y,-1), requires_grad=False)\n",
    "\n",
    "                y_pred = mlp.forward(input_x)\n",
    "                loss = loss_func(y_pred,  output_y)\n",
    "\n",
    "                l2_loss = Tensor(np.zeros((1,1)))\n",
    "                for param in optimizer.params:\n",
    "                    l2_loss = l2_loss + param.l2_norm(l2_norm_coef)\n",
    "\n",
    "                # total_loss = loss + l2_loss\n",
    "                print(\"train_loss:\", loss.values)\n",
    "                # print(\"train_l2_loss:\", l2_loss.values)\n",
    "            \n",
    "            # print(\"Epoch %d\" % epoch)\n",
    "            for batch_idx, (batch_X, batch_y) in enumerate(DataLoader(test_data, shuffle=True, batch_size=test_data.shape[0])):\n",
    "                input_x = Tensor(batch_X, requires_grad=False)\n",
    "                output_y = Tensor(np.expand_dims(batch_y,-1), requires_grad=False)\n",
    "\n",
    "                y_pred = mlp.forward(input_x)\n",
    "                loss = loss_func(y_pred,  output_y)\n",
    "\n",
    "                l2_loss = Tensor(np.zeros((1,1)))\n",
    "                for param in optimizer.params:\n",
    "                    l2_loss = l2_loss + param.l2_norm(l2_norm_coef)\n",
    "\n",
    "                # loss = loss + l2_loss\n",
    "                print(\"test_loss:\", loss.values)\n",
    "                # print(\"test_l2_loss:\", l2_loss.values)\n",
    "#             if(batch_idx % 10) == 0:\n",
    "#                 print(epoch, batch_idx, loss.values)\n",
    "    "
   ]
  },
  {
   "cell_type": "code",
   "execution_count": null,
   "id": "cdab4197-2bd0-49c7-86f0-004b6249a314",
   "metadata": {},
   "outputs": [],
   "source": [
    "mlp."
   ]
  },
  {
   "cell_type": "code",
   "execution_count": 7,
   "id": "f17ec0dc-7ae9-4386-aa74-4965d561a4e3",
   "metadata": {},
   "outputs": [
    {
     "data": {
      "text/plain": [
       "((16, 30), (16,))"
      ]
     },
     "execution_count": 7,
     "metadata": {},
     "output_type": "execute_result"
    }
   ],
   "source": [
    "input_x.shape, output_y.shape"
   ]
  },
  {
   "cell_type": "code",
   "execution_count": 66,
   "id": "19b37722-bf81-4a0f-8110-daef6bbc03e6",
   "metadata": {},
   "outputs": [
    {
     "data": {
      "text/plain": [
       "True"
      ]
     },
     "execution_count": 66,
     "metadata": {},
     "output_type": "execute_result"
    }
   ],
   "source": [
    "type(mlp.activative_func) == str"
   ]
  },
  {
   "cell_type": "code",
   "execution_count": 5,
   "id": "85a5fb2a-b3b5-41bc-b023-2b4ac1d66fff",
   "metadata": {},
   "outputs": [
    {
     "data": {
      "text/plain": [
       "array([10.49205869,  1.44269504,  0.91023923])"
      ]
     },
     "execution_count": 5,
     "metadata": {},
     "output_type": "execute_result"
    }
   ],
   "source": [
    "1/ np.log([1.1,2,3])"
   ]
  },
  {
   "cell_type": "code",
   "execution_count": 17,
   "id": "8cfd198d-edb7-4725-b851-567981dd8fa5",
   "metadata": {},
   "outputs": [
    {
     "name": "stdout",
     "output_type": "stream",
     "text": [
      "(4700, 20) (1175, 20)\n",
      "Epoch 0\n",
      "train_loss: [[0.76291621]]\n",
      "test_loss: [[2.35776374]]\n",
      "Epoch 20\n",
      "train_loss: [[0.52012711]]\n",
      "test_loss: [[1.75037505]]\n",
      "Epoch 40\n",
      "train_loss: [[0.47606547]]\n",
      "test_loss: [[1.78521449]]\n",
      "Epoch 60\n",
      "train_loss: [[0.44665647]]\n",
      "test_loss: [[1.80038001]]\n",
      "Epoch 80\n",
      "train_loss: [[0.43584233]]\n",
      "test_loss: [[1.961267]]\n",
      "Epoch 100\n",
      "train_loss: [[0.41709626]]\n",
      "test_loss: [[1.83921424]]\n",
      "Epoch 120\n",
      "train_loss: [[0.41705985]]\n",
      "test_loss: [[1.97418836]]\n",
      "Epoch 140\n",
      "train_loss: [[0.4073712]]\n",
      "test_loss: [[1.84754531]]\n",
      "Epoch 160\n",
      "train_loss: [[0.40582123]]\n",
      "test_loss: [[1.82282351]]\n",
      "Epoch 180\n",
      "train_loss: [[0.42029779]]\n",
      "test_loss: [[1.52472262]]\n"
     ]
    }
   ],
   "source": [
    "demo_params = {\n",
    "    \"num_units\": \"16,16\",\n",
    "    \"activation_func\": \"Sigmoid\",\n",
    "    \"batch_size\": 32,\n",
    "    \"num_epochs\": 200,\n",
    "    \"learning_rate\": 1e-2,\n",
    "    \"momentum\": 0.9,\n",
    "    \"test_ratio\": 0.2,\n",
    "    \n",
    "    \"input_data\": \"./data/Parkinsons.data\",\n",
    "    \"loss_func\": \"square_loss\",\n",
    "    # \"l2_norm\": 0.1\n",
    "    \"l2_norm\": 5e-3,\n",
    "    \"log_step\":20\n",
    "}\n",
    "demo_params\n",
    "\n",
    "train_func(**demo_params)"
   ]
  },
  {
   "cell_type": "code",
   "execution_count": 18,
   "id": "da5fa498-0cee-4935-a6bb-c25641dd3c6b",
   "metadata": {},
   "outputs": [
    {
     "name": "stdout",
     "output_type": "stream",
     "text": [
      "(455, 31) (114, 31)\n",
      "Epoch 0\n",
      "train_loss: [[1.12311733]]\n",
      "test_loss: [[0.84992098]]\n",
      "Epoch 10\n",
      "train_loss: [[0.57138392]]\n",
      "test_loss: [[0.52123852]]\n",
      "Epoch 20\n",
      "train_loss: [[0.37228178]]\n",
      "test_loss: [[0.36742945]]\n",
      "Epoch 30\n",
      "train_loss: [[0.28607235]]\n",
      "test_loss: [[0.29547223]]\n",
      "Epoch 40\n",
      "train_loss: [[0.2392933]]\n",
      "test_loss: [[0.25225273]]\n",
      "Epoch 50\n",
      "train_loss: [[0.20896204]]\n",
      "test_loss: [[0.22196062]]\n",
      "Epoch 60\n",
      "train_loss: [[0.18749544]]\n",
      "test_loss: [[0.20122427]]\n",
      "Epoch 70\n",
      "train_loss: [[0.1713417]]\n",
      "test_loss: [[0.18390648]]\n",
      "Epoch 80\n",
      "train_loss: [[0.1586874]]\n",
      "test_loss: [[0.1716861]]\n",
      "Epoch 90\n",
      "train_loss: [[0.14871547]]\n",
      "test_loss: [[0.16137102]]\n"
     ]
    }
   ],
   "source": [
    "demo_params = {\n",
    "    \"num_units\": \"16,16\",\n",
    "    \"activation_func\": \"Tanh\",\n",
    "    \"batch_size\": 32,\n",
    "    \"num_epochs\": 100,\n",
    "    \"learning_rate\": 1e-2,\n",
    "    \"momentum\": 0.9,\n",
    "    \"test_ratio\": 0.2,\n",
    "    \n",
    "    \"input_data\": \"./data/BreastCancer.data\",\n",
    "    \"loss_func\": \"log_binary_loss\",\n",
    "    # \"l2_norm\": 0.1\n",
    "    \"l2_norm\": 5e-3,\n",
    "    \"log_step\": 10\n",
    "}\n",
    "demo_params\n",
    "\n",
    "train_func(**demo_params)"
   ]
  },
  {
   "cell_type": "code",
   "execution_count": 1,
   "id": "198ac6ae-2cee-4564-8872-a48f6d87b02a",
   "metadata": {},
   "outputs": [
    {
     "name": "stdout",
     "output_type": "stream",
     "text": [
      "[7 6 5 9 8 2 3 4 1 0]\n"
     ]
    }
   ],
   "source": [
    "import numpy as np\n",
    "\n",
    "from dataset import DataLoader\n",
    "\n",
    "input_data_loader = DataLoader(np.genfromtxt(\"./data/BreastCancer.data\", delimiter=',')[1:],  shuffle=True, batch_size=16)"
   ]
  },
  {
   "cell_type": "code",
   "execution_count": 4,
   "id": "7c7e84f8-ac24-4833-998f-63d83fc631e9",
   "metadata": {},
   "outputs": [
    {
     "data": {
      "text/plain": [
       "(16, 30)"
      ]
     },
     "execution_count": 4,
     "metadata": {},
     "output_type": "execute_result"
    }
   ],
   "source": [
    "X.shape"
   ]
  },
  {
   "cell_type": "code",
   "execution_count": 2,
   "id": "a7e70e9a-ecce-4925-b241-2afb11a50c72",
   "metadata": {},
   "outputs": [
    {
     "name": "stdout",
     "output_type": "stream",
     "text": [
      "0 (16, 30) (16,) [1.320e+01 1.743e+01 8.413e+01 5.416e+02 7.215e-02 4.524e-02 4.336e-02\n",
      " 1.105e-02 1.487e-01 5.635e-02 1.630e-01 1.601e+00 8.730e-01 1.356e+01\n",
      " 6.261e-03 1.569e-02 3.079e-02 5.383e-03 1.962e-02 2.250e-03 1.394e+01\n",
      " 2.782e+01 8.828e+01 6.020e+02 1.101e-01 1.508e-01 2.298e-01 4.970e-02\n",
      " 2.767e-01 7.198e-02] [0. 1. 0. 0. 1. 0. 1. 0. 1. 0. 1. 0. 1. 1. 0. 1.]\n",
      "1 (16, 30) (16,) [1.115e+01 1.308e+01 7.087e+01 3.819e+02 9.754e-02 5.113e-02 1.982e-02\n",
      " 1.786e-02 1.830e-01 6.105e-02 2.251e-01 7.815e-01 1.429e+00 1.548e+01\n",
      " 9.019e-03 8.985e-03 1.196e-02 8.232e-03 2.388e-02 1.619e-03 1.199e+01\n",
      " 1.630e+01 7.625e+01 4.408e+02 1.341e-01 8.971e-02 7.116e-02 5.506e-02\n",
      " 2.859e-01 6.772e-02] [0. 0. 1. 0. 0. 0. 0. 1. 1. 1. 1. 0. 0. 0. 0. 1.]\n",
      "2 (16, 30) (16,) [1.678e+01 1.880e+01 1.093e+02 8.863e+02 8.865e-02 9.182e-02 8.422e-02\n",
      " 6.576e-02 1.893e-01 5.534e-02 5.990e-01 1.391e+00 4.129e+00 6.734e+01\n",
      " 6.123e-03 2.470e-02 2.626e-02 1.604e-02 2.091e-02 3.493e-03 2.005e+01\n",
      " 2.630e+01 1.307e+02 1.260e+03 1.168e-01 2.119e-01 2.318e-01 1.474e-01\n",
      " 2.810e-01 7.228e-02] [1. 0. 0. 0. 1. 1. 0. 0. 1. 0. 0. 1. 0. 1. 1. 0.]\n",
      "3 (16, 30) (16,) [1.249e+01 1.685e+01 7.919e+01 4.816e+02 8.511e-02 3.834e-02 4.473e-03\n",
      " 6.423e-03 1.215e-01 5.673e-02 1.716e-01 7.151e-01 1.047e+00 1.269e+01\n",
      " 4.928e-03 3.012e-03 2.620e-03 3.390e-03 1.393e-02 1.344e-03 1.334e+01\n",
      " 1.971e+01 8.448e+01 5.442e+02 1.104e-01 4.953e-02 1.938e-02 2.784e-02\n",
      " 1.917e-01 6.174e-02] [0. 0. 1. 0. 0. 0. 0. 1. 1. 0. 0. 0. 1. 0. 0. 1.]\n",
      "4 (16, 30) (16,) [1.522e+01 3.062e+01 1.034e+02 7.169e+02 1.048e-01 2.087e-01 2.550e-01\n",
      " 9.429e-02 2.128e-01 7.152e-02 2.602e-01 1.205e+00 2.362e+00 2.265e+01\n",
      " 4.625e-03 4.844e-02 7.359e-02 1.608e-02 2.137e-02 6.142e-03 1.752e+01\n",
      " 4.279e+01 1.287e+02 9.150e+02 1.417e-01 7.917e-01 1.170e+00 2.356e-01\n",
      " 4.089e-01 1.409e-01] [1. 1. 0. 0. 0. 0. 1. 0. 0. 1. 1. 1. 1. 1. 0. 0.]\n",
      "5 (16, 30) (16,) [2.044e+01 2.178e+01 1.338e+02 1.293e+03 9.150e-02 1.131e-01 9.799e-02\n",
      " 7.785e-02 1.618e-01 5.557e-02 5.781e-01 9.168e-01 4.218e+00 7.244e+01\n",
      " 6.208e-03 1.906e-02 2.375e-02 1.461e-02 1.445e-02 1.906e-03 2.431e+01\n",
      " 2.637e+01 1.612e+02 1.780e+03 1.327e-01 2.376e-01 2.702e-01 1.765e-01\n",
      " 2.609e-01 6.735e-02] [1. 0. 1. 1. 1. 1. 0. 1. 1. 0. 1. 0. 0. 0. 1. 1.]\n"
     ]
    }
   ],
   "source": [
    "for i, (X, y) in enumerate(input_data_loader):\n",
    "    print(i, X.shape, y.shape, X[0], y)\n",
    "    \n",
    "    if i == 5:\n",
    "        break\n",
    "    # break"
   ]
  },
  {
   "cell_type": "code",
   "execution_count": 5,
   "id": "7257aa93-5092-4ca7-a810-ff9bca19166f",
   "metadata": {},
   "outputs": [
    {
     "data": {
      "text/plain": [
       "array([[1.877e+01, 2.143e+01, 1.229e+02, ..., 3.679e-01, 9.870e-02,\n",
       "        1.000e+00],\n",
       "       [1.175e+01, 1.756e+01, 7.589e+01, ..., 2.478e-01, 7.757e-02,\n",
       "        0.000e+00],\n",
       "       [1.613e+01, 1.788e+01, 1.070e+02, ..., 4.270e-01, 1.233e-01,\n",
       "        1.000e+00],\n",
       "       ...,\n",
       "       [1.340e+01, 1.695e+01, 8.548e+01, ..., 2.741e-01, 7.582e-02,\n",
       "        0.000e+00],\n",
       "       [1.402e+01, 1.566e+01, 8.959e+01, ..., 2.136e-01, 6.710e-02,\n",
       "        0.000e+00],\n",
       "       [1.550e+01, 2.108e+01, 1.029e+02, ..., 3.003e-01, 1.048e-01,\n",
       "        1.000e+00]])"
      ]
     },
     "execution_count": 5,
     "metadata": {},
     "output_type": "execute_result"
    }
   ],
   "source": [
    "x"
   ]
  },
  {
   "cell_type": "code",
   "execution_count": 4,
   "id": "74b71ab7-5d19-4607-9aa9-8255f02c7d7c",
   "metadata": {},
   "outputs": [
    {
     "ename": "NameError",
     "evalue": "name 'input_data' is not defined",
     "output_type": "error",
     "traceback": [
      "\u001b[0;31m---------------------------------------------------------------------------\u001b[0m",
      "\u001b[0;31mNameError\u001b[0m                                 Traceback (most recent call last)",
      "Input \u001b[0;32mIn [4]\u001b[0m, in \u001b[0;36m<cell line: 1>\u001b[0;34m()\u001b[0m\n\u001b[0;32m----> 1\u001b[0m \u001b[43minput_data\u001b[49m[\u001b[38;5;241m1\u001b[39m:]\n",
      "\u001b[0;31mNameError\u001b[0m: name 'input_data' is not defined"
     ]
    }
   ],
   "source": [
    "input_data[1:]"
   ]
  },
  {
   "cell_type": "code",
   "execution_count": null,
   "id": "f94ee5b6-a95c-4520-9784-daf63f5435c7",
   "metadata": {},
   "outputs": [],
   "source": []
  }
 ],
 "metadata": {
  "kernelspec": {
   "display_name": "Python 3 (ipykernel)",
   "language": "python",
   "name": "python3"
  },
  "language_info": {
   "codemirror_mode": {
    "name": "ipython",
    "version": 3
   },
   "file_extension": ".py",
   "mimetype": "text/x-python",
   "name": "python",
   "nbconvert_exporter": "python",
   "pygments_lexer": "ipython3",
   "version": "3.9.12"
  }
 },
 "nbformat": 4,
 "nbformat_minor": 5
}
